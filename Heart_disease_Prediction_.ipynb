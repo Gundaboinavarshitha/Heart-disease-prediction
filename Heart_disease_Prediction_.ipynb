{
  "nbformat": 4,
  "nbformat_minor": 0,
  "metadata": {
    "colab": {
      "private_outputs": true,
      "provenance": [],
      "authorship_tag": "ABX9TyNUuG6m6SV+aviw9hJKTYBO",
      "include_colab_link": true
    },
    "kernelspec": {
      "name": "python3",
      "display_name": "Python 3"
    },
    "language_info": {
      "name": "python"
    }
  },
  "cells": [
    {
      "cell_type": "markdown",
      "metadata": {
        "id": "view-in-github",
        "colab_type": "text"
      },
      "source": [
        "<a href=\"https://colab.research.google.com/github/Gundaboinavarshitha/Heart-disease-prediction/blob/main/Heart_disease_Prediction_.ipynb\" target=\"_parent\"><img src=\"https://colab.research.google.com/assets/colab-badge.svg\" alt=\"Open In Colab\"/></a>"
      ]
    },
    {
      "cell_type": "markdown",
      "source": [
        "Importing the Dependencies\n"
      ],
      "metadata": {
        "id": "1jAq8y74qVrx"
      }
    },
    {
      "cell_type": "code",
      "source": [
        "import numpy as np\n",
        "import pandas as pd\n",
        "from sklearn.model_selection import train_test_split\n",
        "from sklearn.linear_model import LogisticRegression\n",
        "from sklearn.metrics import accuracy_score"
      ],
      "metadata": {
        "id": "LypqIkIOqdWV"
      },
      "execution_count": null,
      "outputs": []
    },
    {
      "cell_type": "markdown",
      "source": [
        "Data Collection and processing\n"
      ],
      "metadata": {
        "id": "7drF948NrNzo"
      }
    },
    {
      "cell_type": "code",
      "source": [
        "#loading the csv data into pandas data frame\n",
        "heart_data = pd.read_csv('/data.csv')"
      ],
      "metadata": {
        "id": "W_aKnoFxrXqA"
      },
      "execution_count": null,
      "outputs": []
    },
    {
      "cell_type": "code",
      "source": [
        "#print the first 5 rows of the data set\n",
        "heart_data.head()"
      ],
      "metadata": {
        "id": "f_pjeIG3sExU"
      },
      "execution_count": null,
      "outputs": []
    },
    {
      "cell_type": "code",
      "source": [
        "#print the last 5 rows of the data set\n",
        "heart_data.tail()"
      ],
      "metadata": {
        "id": "thqnQF6xsdof"
      },
      "execution_count": null,
      "outputs": []
    },
    {
      "cell_type": "code",
      "source": [
        "#no of rows and columns in dataset\n",
        "heart_data.shape"
      ],
      "metadata": {
        "id": "4WT8iMRRs1aL"
      },
      "execution_count": null,
      "outputs": []
    },
    {
      "cell_type": "code",
      "source": [
        "#getting some info about data\n",
        "heart_data.info()"
      ],
      "metadata": {
        "id": "NMprP2RvtPXv"
      },
      "execution_count": null,
      "outputs": []
    },
    {
      "cell_type": "code",
      "source": [
        "#checking for missing values\n",
        "heart_data.isnull().sum()"
      ],
      "metadata": {
        "id": "Zwlmlx_5tprh"
      },
      "execution_count": null,
      "outputs": []
    },
    {
      "cell_type": "code",
      "source": [
        "# statistical measures of about the data\n",
        "heart_data.describe()"
      ],
      "metadata": {
        "id": "cCwIe6M2t8JV"
      },
      "execution_count": null,
      "outputs": []
    },
    {
      "cell_type": "code",
      "source": [
        "#Checking the distribution of target vairable\n",
        "heart_data['target'].value_counts()\n"
      ],
      "metadata": {
        "id": "FJ4yu5QYuaiw"
      },
      "execution_count": null,
      "outputs": []
    },
    {
      "cell_type": "markdown",
      "source": [
        "1---> Defective Heart\n",
        "\n",
        "0---> Healthy Heart\n",
        "\n",
        "\n"
      ],
      "metadata": {
        "id": "JJm585EIvaZw"
      }
    },
    {
      "cell_type": "markdown",
      "source": [
        "Splitting the features and target"
      ],
      "metadata": {
        "id": "Eyz3RzRGwA4c"
      }
    },
    {
      "cell_type": "code",
      "source": [
        "X=heart_data.drop(columns='target',axis=1)\n",
        "Y=heart_data['target']\n"
      ],
      "metadata": {
        "id": "cGp5jjuMwF6h"
      },
      "execution_count": null,
      "outputs": []
    },
    {
      "cell_type": "code",
      "source": [
        " print(X)"
      ],
      "metadata": {
        "id": "MTSuJ0PWwifC"
      },
      "execution_count": null,
      "outputs": []
    },
    {
      "cell_type": "code",
      "source": [
        "print(Y)"
      ],
      "metadata": {
        "id": "MXkjUGNwwxcA"
      },
      "execution_count": null,
      "outputs": []
    },
    {
      "cell_type": "markdown",
      "source": [
        "Splittin the data into training data & test data"
      ],
      "metadata": {
        "id": "hdrQWvXwxBTq"
      }
    },
    {
      "cell_type": "code",
      "source": [
        "X_train,X_test,Y_train,Y_test=train_test_split(X,Y,test_size=0.2,stratify=Y,random_state=2)"
      ],
      "metadata": {
        "id": "hKn_d078w_eA"
      },
      "execution_count": null,
      "outputs": []
    },
    {
      "cell_type": "code",
      "source": [
        "print(X.shape,X_train.shape,X_test.shape)"
      ],
      "metadata": {
        "id": "dJboYJsKxrss"
      },
      "execution_count": null,
      "outputs": []
    },
    {
      "cell_type": "markdown",
      "source": [
        "Model Training"
      ],
      "metadata": {
        "id": "hY4OxbxeyEWi"
      }
    },
    {
      "cell_type": "markdown",
      "source": [
        "Logistics Regression"
      ],
      "metadata": {
        "id": "Di6-aE8AyIOS"
      }
    },
    {
      "cell_type": "code",
      "source": [
        "model = LogisticRegression()"
      ],
      "metadata": {
        "id": "rBtRSSv6x_ME"
      },
      "execution_count": null,
      "outputs": []
    },
    {
      "cell_type": "code",
      "source": [
        "#training the logistic Regression model with training model\n",
        "model.fit(X_train,Y_train)"
      ],
      "metadata": {
        "id": "GeGg064CyXRF"
      },
      "execution_count": null,
      "outputs": []
    }
  ]
}