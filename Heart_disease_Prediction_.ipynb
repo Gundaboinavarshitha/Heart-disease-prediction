{
  "nbformat": 4,
  "nbformat_minor": 0,
  "metadata": {
    "colab": {
      "private_outputs": true,
      "provenance": []
    },
    "kernelspec": {
      "name": "python3",
      "display_name": "Python 3"
    },
    "language_info": {
      "name": "python"
    }
  },
  "cells": [
    {
      "cell_type": "markdown",
      "source": [
        "Importing the Dependencies\n"
      ],
      "metadata": {
        "id": "1jAq8y74qVrx"
      }
    },
    {
      "cell_type": "code",
      "source": [
        "import numpy as np\n",
        "import pandas as pd\n",
        "from sklearn.model_selection import train_test_split\n",
        "from sklearn.linear_model import LogisticRegression\n",
        "from sklearn.metrics import accuracy_score"
      ],
      "metadata": {
        "id": "LypqIkIOqdWV"
      },
      "execution_count": null,
      "outputs": []
    },
    {
      "cell_type": "markdown",
      "source": [
        "Data Collection and processing"
      ],
      "metadata": {
        "id": "1jbxg3YvccX1"
      }
    },
    {
      "cell_type": "code",
      "source": [
        "#loading the csv data into pandas data frame\n",
        "heart_data = pd.read_csv('/content/data.csv')"
      ],
      "metadata": {
        "id": "t7jmywLAcC9J"
      },
      "execution_count": null,
      "outputs": []
    },
    {
      "cell_type": "code",
      "source": [
        "#print the first 5 rows of the data set\n",
        "heart_data.head()"
      ],
      "metadata": {
        "id": "_cyP7fv1c7pp"
      },
      "execution_count": null,
      "outputs": []
    },
    {
      "cell_type": "code",
      "source": [
        "# @title Default title text\n",
        "#print the last 5 rows of the data set\n",
        "heart_data.tail()"
      ],
      "metadata": {
        "id": "a675N3eidLFg"
      },
      "execution_count": null,
      "outputs": []
    },
    {
      "cell_type": "code",
      "source": [
        "#no of rows and columns in dataset\n",
        "heart_data.shape"
      ],
      "metadata": {
        "id": "PGEHKGuadQcq"
      },
      "execution_count": null,
      "outputs": []
    },
    {
      "cell_type": "code",
      "source": [
        "#getting some info about data\n",
        "heart_data.info()"
      ],
      "metadata": {
        "id": "kFO7ohWldUop"
      },
      "execution_count": null,
      "outputs": []
    },
    {
      "cell_type": "code",
      "source": [
        "#checking for missing values\n",
        "heart_data.isnull().sum()"
      ],
      "metadata": {
        "id": "lt9ttmcbdZlL"
      },
      "execution_count": null,
      "outputs": []
    },
    {
      "cell_type": "code",
      "source": [
        "# statistical measures of about the data\n",
        "heart_data.describe()"
      ],
      "metadata": {
        "id": "nVYBHtuodbqG"
      },
      "execution_count": null,
      "outputs": []
    },
    {
      "cell_type": "code",
      "source": [
        "#Checking the distribution of target vairable\n",
        "heart_data['target'].value_counts()"
      ],
      "metadata": {
        "id": "Tb7Kr0a5gr7G"
      },
      "execution_count": null,
      "outputs": []
    },
    {
      "cell_type": "markdown",
      "source": [
        "1---> Defective Heart\n",
        "\n",
        "0---> Healthy Heart"
      ],
      "metadata": {
        "id": "x_ch62AEhYvI"
      }
    },
    {
      "cell_type": "markdown",
      "source": [
        "Splitting the features and target\n"
      ],
      "metadata": {
        "id": "PI5Y9gkjieYs"
      }
    },
    {
      "cell_type": "code",
      "source": [
        "X=heart_data.drop(columns='target',axis=1)\n",
        "Y=heart_data['target']"
      ],
      "metadata": {
        "id": "dEYXs6VIiVal"
      },
      "execution_count": null,
      "outputs": []
    },
    {
      "cell_type": "code",
      "source": [
        "print(X)"
      ],
      "metadata": {
        "id": "hReQje0thVoP"
      },
      "execution_count": null,
      "outputs": []
    },
    {
      "cell_type": "code",
      "source": [
        "print(Y)"
      ],
      "metadata": {
        "id": "R1ug8RIJhqZq"
      },
      "execution_count": null,
      "outputs": []
    }
  ]
}